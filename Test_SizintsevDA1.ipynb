{
  "nbformat": 4,
  "nbformat_minor": 0,
  "metadata": {
    "colab": {
      "provenance": [],
      "collapsed_sections": [],
      "toc_visible": true
    },
    "kernelspec": {
      "name": "python3",
      "display_name": "Python 3"
    },
    "language_info": {
      "name": "python"
    }
  },
  "cells": [
    {
      "cell_type": "code",
      "execution_count": null,
      "metadata": {
        "colab": {
          "base_uri": "https://localhost:8080/"
        },
        "id": "sSFd9401QbG8",
        "outputId": "efcf3a83-5358-4495-c9ca-ed5e4b6e99d9"
      },
      "outputs": [
        {
          "output_type": "stream",
          "name": "stdout",
          "text": [
            "Drive already mounted at /content/gdrive; to attempt to forcibly remount, call drive.mount(\"/content/gdrive\", force_remount=True).\n"
          ]
        }
      ],
      "source": [
        "import numpy as np\n",
        "import pandas as pd\n",
        "\n",
        "import warnings\n",
        "warnings.filterwarnings('ignore')\n",
        "\n",
        "from google.colab import drive \n",
        "drive.mount('/content/gdrive')"
      ]
    },
    {
      "cell_type": "markdown",
      "source": [
        "#Импорт данных"
      ],
      "metadata": {
        "id": "bu6NrIpWlFGf"
      }
    },
    {
      "cell_type": "code",
      "source": [
        "data = pd.read_excel('gdrive/My Drive/Test_bestplace/ООО_Внимание_к_деталям.xlsx')"
      ],
      "metadata": {
        "id": "0fuzY618ZHBD"
      },
      "execution_count": null,
      "outputs": []
    },
    {
      "cell_type": "code",
      "source": [
        "data.head(3)"
      ],
      "metadata": {
        "colab": {
          "base_uri": "https://localhost:8080/",
          "height": 462
        },
        "id": "iik5FJw6ZG_V",
        "outputId": "450f5737-21dd-4e07-a0d1-0b4900225f73"
      },
      "execution_count": null,
      "outputs": [
        {
          "output_type": "execute_result",
          "data": {
            "text/plain": [
              "   id точки                                              Адрес      Широта  \\\n",
              "0    8955.0   Оренбургская обл, Оренбург г, Шарлыкское ш, д...   55.118272   \n",
              "1   11007.0  Алтайский край, г. Барнаул, ул. Малахова, дом ...   83.696799   \n",
              "2   11366.0  Амурская область, Благовещенск, улица Мухина, 114  127.510357   \n",
              "\n",
              "     Долгота        Дата открытия Дата закрытия  Площадь магазина  \\\n",
              "0  51.843127  2016-11-09 00:00:00           NaT             478.0   \n",
              "1  53.356954  2010-04-26 00:00:00           NaT             332.0   \n",
              "2  50.280435  2017-08-25 00:00:00           NaT             356.0   \n",
              "\n",
              "               Тип входа  Площадь ТЦ Формат магазина  ... Этаж  \\\n",
              "0  без сквозного прохода    130000.0              ТЦ  ...  3.0   \n",
              "1        сквозной проход     31500.0              ТЦ  ...  1.0   \n",
              "2  без сквозного прохода     36000.0              ТЦ  ...  1.0   \n",
              "\n",
              "       Время работы Заполненность ТЦ  Рядом с эскалатором  Рядом со входом  \\\n",
              "0  с 10:00 до 22:00              NaN                  0.0              0.0   \n",
              "1  с 10:00 до 22:00              NaN                  0.0              1.0   \n",
              "2  с 10:00 до 22:00              3.0                  0.0              1.0   \n",
              "\n",
              "   Конкуренты в ТЦ  Расположение в ТЦ     Толока       Люкс    Выборка  \n",
              "0              1.0                7.0  37.857582  69.500000  Обучающая  \n",
              "1              NaN                9.0  57.810494  66.896552  Обучающая  \n",
              "2              1.0                6.0  49.959831  68.727273  Обучающая  \n",
              "\n",
              "[3 rows x 21 columns]"
            ],
            "text/html": [
              "\n",
              "  <div id=\"df-f53d1707-e18a-4b36-9412-dce8512fdd49\">\n",
              "    <div class=\"colab-df-container\">\n",
              "      <div>\n",
              "<style scoped>\n",
              "    .dataframe tbody tr th:only-of-type {\n",
              "        vertical-align: middle;\n",
              "    }\n",
              "\n",
              "    .dataframe tbody tr th {\n",
              "        vertical-align: top;\n",
              "    }\n",
              "\n",
              "    .dataframe thead th {\n",
              "        text-align: right;\n",
              "    }\n",
              "</style>\n",
              "<table border=\"1\" class=\"dataframe\">\n",
              "  <thead>\n",
              "    <tr style=\"text-align: right;\">\n",
              "      <th></th>\n",
              "      <th>id точки</th>\n",
              "      <th>Адрес</th>\n",
              "      <th>Широта</th>\n",
              "      <th>Долгота</th>\n",
              "      <th>Дата открытия</th>\n",
              "      <th>Дата закрытия</th>\n",
              "      <th>Площадь магазина</th>\n",
              "      <th>Тип входа</th>\n",
              "      <th>Площадь ТЦ</th>\n",
              "      <th>Формат магазина</th>\n",
              "      <th>...</th>\n",
              "      <th>Этаж</th>\n",
              "      <th>Время работы</th>\n",
              "      <th>Заполненность ТЦ</th>\n",
              "      <th>Рядом с эскалатором</th>\n",
              "      <th>Рядом со входом</th>\n",
              "      <th>Конкуренты в ТЦ</th>\n",
              "      <th>Расположение в ТЦ</th>\n",
              "      <th>Толока</th>\n",
              "      <th>Люкс</th>\n",
              "      <th>Выборка</th>\n",
              "    </tr>\n",
              "  </thead>\n",
              "  <tbody>\n",
              "    <tr>\n",
              "      <th>0</th>\n",
              "      <td>8955.0</td>\n",
              "      <td>Оренбургская обл, Оренбург г, Шарлыкское ш, д...</td>\n",
              "      <td>55.118272</td>\n",
              "      <td>51.843127</td>\n",
              "      <td>2016-11-09 00:00:00</td>\n",
              "      <td>NaT</td>\n",
              "      <td>478.0</td>\n",
              "      <td>без сквозного прохода</td>\n",
              "      <td>130000.0</td>\n",
              "      <td>ТЦ</td>\n",
              "      <td>...</td>\n",
              "      <td>3.0</td>\n",
              "      <td>с 10:00 до 22:00</td>\n",
              "      <td>NaN</td>\n",
              "      <td>0.0</td>\n",
              "      <td>0.0</td>\n",
              "      <td>1.0</td>\n",
              "      <td>7.0</td>\n",
              "      <td>37.857582</td>\n",
              "      <td>69.500000</td>\n",
              "      <td>Обучающая</td>\n",
              "    </tr>\n",
              "    <tr>\n",
              "      <th>1</th>\n",
              "      <td>11007.0</td>\n",
              "      <td>Алтайский край, г. Барнаул, ул. Малахова, дом ...</td>\n",
              "      <td>83.696799</td>\n",
              "      <td>53.356954</td>\n",
              "      <td>2010-04-26 00:00:00</td>\n",
              "      <td>NaT</td>\n",
              "      <td>332.0</td>\n",
              "      <td>сквозной проход</td>\n",
              "      <td>31500.0</td>\n",
              "      <td>ТЦ</td>\n",
              "      <td>...</td>\n",
              "      <td>1.0</td>\n",
              "      <td>с 10:00 до 22:00</td>\n",
              "      <td>NaN</td>\n",
              "      <td>0.0</td>\n",
              "      <td>1.0</td>\n",
              "      <td>NaN</td>\n",
              "      <td>9.0</td>\n",
              "      <td>57.810494</td>\n",
              "      <td>66.896552</td>\n",
              "      <td>Обучающая</td>\n",
              "    </tr>\n",
              "    <tr>\n",
              "      <th>2</th>\n",
              "      <td>11366.0</td>\n",
              "      <td>Амурская область, Благовещенск, улица Мухина, 114</td>\n",
              "      <td>127.510357</td>\n",
              "      <td>50.280435</td>\n",
              "      <td>2017-08-25 00:00:00</td>\n",
              "      <td>NaT</td>\n",
              "      <td>356.0</td>\n",
              "      <td>без сквозного прохода</td>\n",
              "      <td>36000.0</td>\n",
              "      <td>ТЦ</td>\n",
              "      <td>...</td>\n",
              "      <td>1.0</td>\n",
              "      <td>с 10:00 до 22:00</td>\n",
              "      <td>3.0</td>\n",
              "      <td>0.0</td>\n",
              "      <td>1.0</td>\n",
              "      <td>1.0</td>\n",
              "      <td>6.0</td>\n",
              "      <td>49.959831</td>\n",
              "      <td>68.727273</td>\n",
              "      <td>Обучающая</td>\n",
              "    </tr>\n",
              "  </tbody>\n",
              "</table>\n",
              "<p>3 rows × 21 columns</p>\n",
              "</div>\n",
              "      <button class=\"colab-df-convert\" onclick=\"convertToInteractive('df-f53d1707-e18a-4b36-9412-dce8512fdd49')\"\n",
              "              title=\"Convert this dataframe to an interactive table.\"\n",
              "              style=\"display:none;\">\n",
              "        \n",
              "  <svg xmlns=\"http://www.w3.org/2000/svg\" height=\"24px\"viewBox=\"0 0 24 24\"\n",
              "       width=\"24px\">\n",
              "    <path d=\"M0 0h24v24H0V0z\" fill=\"none\"/>\n",
              "    <path d=\"M18.56 5.44l.94 2.06.94-2.06 2.06-.94-2.06-.94-.94-2.06-.94 2.06-2.06.94zm-11 1L8.5 8.5l.94-2.06 2.06-.94-2.06-.94L8.5 2.5l-.94 2.06-2.06.94zm10 10l.94 2.06.94-2.06 2.06-.94-2.06-.94-.94-2.06-.94 2.06-2.06.94z\"/><path d=\"M17.41 7.96l-1.37-1.37c-.4-.4-.92-.59-1.43-.59-.52 0-1.04.2-1.43.59L10.3 9.45l-7.72 7.72c-.78.78-.78 2.05 0 2.83L4 21.41c.39.39.9.59 1.41.59.51 0 1.02-.2 1.41-.59l7.78-7.78 2.81-2.81c.8-.78.8-2.07 0-2.86zM5.41 20L4 18.59l7.72-7.72 1.47 1.35L5.41 20z\"/>\n",
              "  </svg>\n",
              "      </button>\n",
              "      \n",
              "  <style>\n",
              "    .colab-df-container {\n",
              "      display:flex;\n",
              "      flex-wrap:wrap;\n",
              "      gap: 12px;\n",
              "    }\n",
              "\n",
              "    .colab-df-convert {\n",
              "      background-color: #E8F0FE;\n",
              "      border: none;\n",
              "      border-radius: 50%;\n",
              "      cursor: pointer;\n",
              "      display: none;\n",
              "      fill: #1967D2;\n",
              "      height: 32px;\n",
              "      padding: 0 0 0 0;\n",
              "      width: 32px;\n",
              "    }\n",
              "\n",
              "    .colab-df-convert:hover {\n",
              "      background-color: #E2EBFA;\n",
              "      box-shadow: 0px 1px 2px rgba(60, 64, 67, 0.3), 0px 1px 3px 1px rgba(60, 64, 67, 0.15);\n",
              "      fill: #174EA6;\n",
              "    }\n",
              "\n",
              "    [theme=dark] .colab-df-convert {\n",
              "      background-color: #3B4455;\n",
              "      fill: #D2E3FC;\n",
              "    }\n",
              "\n",
              "    [theme=dark] .colab-df-convert:hover {\n",
              "      background-color: #434B5C;\n",
              "      box-shadow: 0px 1px 3px 1px rgba(0, 0, 0, 0.15);\n",
              "      filter: drop-shadow(0px 1px 2px rgba(0, 0, 0, 0.3));\n",
              "      fill: #FFFFFF;\n",
              "    }\n",
              "  </style>\n",
              "\n",
              "      <script>\n",
              "        const buttonEl =\n",
              "          document.querySelector('#df-f53d1707-e18a-4b36-9412-dce8512fdd49 button.colab-df-convert');\n",
              "        buttonEl.style.display =\n",
              "          google.colab.kernel.accessAllowed ? 'block' : 'none';\n",
              "\n",
              "        async function convertToInteractive(key) {\n",
              "          const element = document.querySelector('#df-f53d1707-e18a-4b36-9412-dce8512fdd49');\n",
              "          const dataTable =\n",
              "            await google.colab.kernel.invokeFunction('convertToInteractive',\n",
              "                                                     [key], {});\n",
              "          if (!dataTable) return;\n",
              "\n",
              "          const docLinkHtml = 'Like what you see? Visit the ' +\n",
              "            '<a target=\"_blank\" href=https://colab.research.google.com/notebooks/data_table.ipynb>data table notebook</a>'\n",
              "            + ' to learn more about interactive tables.';\n",
              "          element.innerHTML = '';\n",
              "          dataTable['output_type'] = 'display_data';\n",
              "          await google.colab.output.renderOutput(dataTable, element);\n",
              "          const docLink = document.createElement('div');\n",
              "          docLink.innerHTML = docLinkHtml;\n",
              "          element.appendChild(docLink);\n",
              "        }\n",
              "      </script>\n",
              "    </div>\n",
              "  </div>\n",
              "  "
            ]
          },
          "metadata": {},
          "execution_count": 447
        }
      ]
    },
    {
      "cell_type": "code",
      "source": [
        "data1 = pd.read_excel('gdrive/My Drive/Test_bestplace/ООО_Внимание_к_деталям.xlsx', sheet_name=1)"
      ],
      "metadata": {
        "id": "LufYry7-ZG9u"
      },
      "execution_count": null,
      "outputs": []
    },
    {
      "cell_type": "code",
      "source": [
        "data1.head(3)"
      ],
      "metadata": {
        "colab": {
          "base_uri": "https://localhost:8080/",
          "height": 254
        },
        "id": "UNA3amEcQn4v",
        "outputId": "f84838a6-968e-4d4e-c323-ee2f08060f55"
      },
      "execution_count": null,
      "outputs": [
        {
          "output_type": "execute_result",
          "data": {
            "text/plain": [
              "   id точки     2015-01-01     2015-02-01     2015-03-01     2015-04-01  \\\n",
              "0   11366.0  245709.342667  301024.685000  406199.782258  295602.853000   \n",
              "1   11810.0  270245.842066  297964.820199  406198.175918  232433.263996   \n",
              "2   15041.0  171972.976000  198141.440000  260215.741935  205316.010644   \n",
              "\n",
              "      2015-05-01     2015-06-01     2015-07-01     2015-08-01     2015-09-01  \\\n",
              "0  268179.172258  266579.009667  202667.039355  207347.022581  237393.216667   \n",
              "1  229317.708387  251403.308057  242000.555806  260407.109247  267051.162996   \n",
              "2  187059.870968  198590.970667  178250.637781  187094.699355  211000.005517   \n",
              "\n",
              "   ...     2018-01-01     2018-02-01     2018-04-01     2018-05-01  \\\n",
              "0  ...  271084.023513  298845.267500  277776.347333  270902.919677   \n",
              "1  ...  245402.383180  273515.012143  240088.292000  196260.466452   \n",
              "2  ...  174154.623627  173190.240000  240396.837333  241494.616774   \n",
              "\n",
              "      2018-06-01     2018-07-01     2018-08-01     2018-09-01     2018-10-01  \\\n",
              "0  280106.099000  243448.836129  236709.816452  248268.778333  296637.103226   \n",
              "1  228920.589000  204058.825161  207104.013135  203499.409840  206013.017419   \n",
              "2  264873.765333  227461.233548  249503.230968  251805.680000  263152.960000   \n",
              "\n",
              "      2018-11-01  \n",
              "0  314456.870000  \n",
              "1  218636.436000  \n",
              "2  269913.018667  \n",
              "\n",
              "[3 rows x 47 columns]"
            ],
            "text/html": [
              "\n",
              "  <div id=\"df-9e8bc174-4885-4aa5-9174-39c91966b24b\">\n",
              "    <div class=\"colab-df-container\">\n",
              "      <div>\n",
              "<style scoped>\n",
              "    .dataframe tbody tr th:only-of-type {\n",
              "        vertical-align: middle;\n",
              "    }\n",
              "\n",
              "    .dataframe tbody tr th {\n",
              "        vertical-align: top;\n",
              "    }\n",
              "\n",
              "    .dataframe thead th {\n",
              "        text-align: right;\n",
              "    }\n",
              "</style>\n",
              "<table border=\"1\" class=\"dataframe\">\n",
              "  <thead>\n",
              "    <tr style=\"text-align: right;\">\n",
              "      <th></th>\n",
              "      <th>id точки</th>\n",
              "      <th>2015-01-01</th>\n",
              "      <th>2015-02-01</th>\n",
              "      <th>2015-03-01</th>\n",
              "      <th>2015-04-01</th>\n",
              "      <th>2015-05-01</th>\n",
              "      <th>2015-06-01</th>\n",
              "      <th>2015-07-01</th>\n",
              "      <th>2015-08-01</th>\n",
              "      <th>2015-09-01</th>\n",
              "      <th>...</th>\n",
              "      <th>2018-01-01</th>\n",
              "      <th>2018-02-01</th>\n",
              "      <th>2018-04-01</th>\n",
              "      <th>2018-05-01</th>\n",
              "      <th>2018-06-01</th>\n",
              "      <th>2018-07-01</th>\n",
              "      <th>2018-08-01</th>\n",
              "      <th>2018-09-01</th>\n",
              "      <th>2018-10-01</th>\n",
              "      <th>2018-11-01</th>\n",
              "    </tr>\n",
              "  </thead>\n",
              "  <tbody>\n",
              "    <tr>\n",
              "      <th>0</th>\n",
              "      <td>11366.0</td>\n",
              "      <td>245709.342667</td>\n",
              "      <td>301024.685000</td>\n",
              "      <td>406199.782258</td>\n",
              "      <td>295602.853000</td>\n",
              "      <td>268179.172258</td>\n",
              "      <td>266579.009667</td>\n",
              "      <td>202667.039355</td>\n",
              "      <td>207347.022581</td>\n",
              "      <td>237393.216667</td>\n",
              "      <td>...</td>\n",
              "      <td>271084.023513</td>\n",
              "      <td>298845.267500</td>\n",
              "      <td>277776.347333</td>\n",
              "      <td>270902.919677</td>\n",
              "      <td>280106.099000</td>\n",
              "      <td>243448.836129</td>\n",
              "      <td>236709.816452</td>\n",
              "      <td>248268.778333</td>\n",
              "      <td>296637.103226</td>\n",
              "      <td>314456.870000</td>\n",
              "    </tr>\n",
              "    <tr>\n",
              "      <th>1</th>\n",
              "      <td>11810.0</td>\n",
              "      <td>270245.842066</td>\n",
              "      <td>297964.820199</td>\n",
              "      <td>406198.175918</td>\n",
              "      <td>232433.263996</td>\n",
              "      <td>229317.708387</td>\n",
              "      <td>251403.308057</td>\n",
              "      <td>242000.555806</td>\n",
              "      <td>260407.109247</td>\n",
              "      <td>267051.162996</td>\n",
              "      <td>...</td>\n",
              "      <td>245402.383180</td>\n",
              "      <td>273515.012143</td>\n",
              "      <td>240088.292000</td>\n",
              "      <td>196260.466452</td>\n",
              "      <td>228920.589000</td>\n",
              "      <td>204058.825161</td>\n",
              "      <td>207104.013135</td>\n",
              "      <td>203499.409840</td>\n",
              "      <td>206013.017419</td>\n",
              "      <td>218636.436000</td>\n",
              "    </tr>\n",
              "    <tr>\n",
              "      <th>2</th>\n",
              "      <td>15041.0</td>\n",
              "      <td>171972.976000</td>\n",
              "      <td>198141.440000</td>\n",
              "      <td>260215.741935</td>\n",
              "      <td>205316.010644</td>\n",
              "      <td>187059.870968</td>\n",
              "      <td>198590.970667</td>\n",
              "      <td>178250.637781</td>\n",
              "      <td>187094.699355</td>\n",
              "      <td>211000.005517</td>\n",
              "      <td>...</td>\n",
              "      <td>174154.623627</td>\n",
              "      <td>173190.240000</td>\n",
              "      <td>240396.837333</td>\n",
              "      <td>241494.616774</td>\n",
              "      <td>264873.765333</td>\n",
              "      <td>227461.233548</td>\n",
              "      <td>249503.230968</td>\n",
              "      <td>251805.680000</td>\n",
              "      <td>263152.960000</td>\n",
              "      <td>269913.018667</td>\n",
              "    </tr>\n",
              "  </tbody>\n",
              "</table>\n",
              "<p>3 rows × 47 columns</p>\n",
              "</div>\n",
              "      <button class=\"colab-df-convert\" onclick=\"convertToInteractive('df-9e8bc174-4885-4aa5-9174-39c91966b24b')\"\n",
              "              title=\"Convert this dataframe to an interactive table.\"\n",
              "              style=\"display:none;\">\n",
              "        \n",
              "  <svg xmlns=\"http://www.w3.org/2000/svg\" height=\"24px\"viewBox=\"0 0 24 24\"\n",
              "       width=\"24px\">\n",
              "    <path d=\"M0 0h24v24H0V0z\" fill=\"none\"/>\n",
              "    <path d=\"M18.56 5.44l.94 2.06.94-2.06 2.06-.94-2.06-.94-.94-2.06-.94 2.06-2.06.94zm-11 1L8.5 8.5l.94-2.06 2.06-.94-2.06-.94L8.5 2.5l-.94 2.06-2.06.94zm10 10l.94 2.06.94-2.06 2.06-.94-2.06-.94-.94-2.06-.94 2.06-2.06.94z\"/><path d=\"M17.41 7.96l-1.37-1.37c-.4-.4-.92-.59-1.43-.59-.52 0-1.04.2-1.43.59L10.3 9.45l-7.72 7.72c-.78.78-.78 2.05 0 2.83L4 21.41c.39.39.9.59 1.41.59.51 0 1.02-.2 1.41-.59l7.78-7.78 2.81-2.81c.8-.78.8-2.07 0-2.86zM5.41 20L4 18.59l7.72-7.72 1.47 1.35L5.41 20z\"/>\n",
              "  </svg>\n",
              "      </button>\n",
              "      \n",
              "  <style>\n",
              "    .colab-df-container {\n",
              "      display:flex;\n",
              "      flex-wrap:wrap;\n",
              "      gap: 12px;\n",
              "    }\n",
              "\n",
              "    .colab-df-convert {\n",
              "      background-color: #E8F0FE;\n",
              "      border: none;\n",
              "      border-radius: 50%;\n",
              "      cursor: pointer;\n",
              "      display: none;\n",
              "      fill: #1967D2;\n",
              "      height: 32px;\n",
              "      padding: 0 0 0 0;\n",
              "      width: 32px;\n",
              "    }\n",
              "\n",
              "    .colab-df-convert:hover {\n",
              "      background-color: #E2EBFA;\n",
              "      box-shadow: 0px 1px 2px rgba(60, 64, 67, 0.3), 0px 1px 3px 1px rgba(60, 64, 67, 0.15);\n",
              "      fill: #174EA6;\n",
              "    }\n",
              "\n",
              "    [theme=dark] .colab-df-convert {\n",
              "      background-color: #3B4455;\n",
              "      fill: #D2E3FC;\n",
              "    }\n",
              "\n",
              "    [theme=dark] .colab-df-convert:hover {\n",
              "      background-color: #434B5C;\n",
              "      box-shadow: 0px 1px 3px 1px rgba(0, 0, 0, 0.15);\n",
              "      filter: drop-shadow(0px 1px 2px rgba(0, 0, 0, 0.3));\n",
              "      fill: #FFFFFF;\n",
              "    }\n",
              "  </style>\n",
              "\n",
              "      <script>\n",
              "        const buttonEl =\n",
              "          document.querySelector('#df-9e8bc174-4885-4aa5-9174-39c91966b24b button.colab-df-convert');\n",
              "        buttonEl.style.display =\n",
              "          google.colab.kernel.accessAllowed ? 'block' : 'none';\n",
              "\n",
              "        async function convertToInteractive(key) {\n",
              "          const element = document.querySelector('#df-9e8bc174-4885-4aa5-9174-39c91966b24b');\n",
              "          const dataTable =\n",
              "            await google.colab.kernel.invokeFunction('convertToInteractive',\n",
              "                                                     [key], {});\n",
              "          if (!dataTable) return;\n",
              "\n",
              "          const docLinkHtml = 'Like what you see? Visit the ' +\n",
              "            '<a target=\"_blank\" href=https://colab.research.google.com/notebooks/data_table.ipynb>data table notebook</a>'\n",
              "            + ' to learn more about interactive tables.';\n",
              "          element.innerHTML = '';\n",
              "          dataTable['output_type'] = 'display_data';\n",
              "          await google.colab.output.renderOutput(dataTable, element);\n",
              "          const docLink = document.createElement('div');\n",
              "          docLink.innerHTML = docLinkHtml;\n",
              "          element.appendChild(docLink);\n",
              "        }\n",
              "      </script>\n",
              "    </div>\n",
              "  </div>\n",
              "  "
            ]
          },
          "metadata": {},
          "execution_count": 449
        }
      ]
    },
    {
      "cell_type": "markdown",
      "source": [
        "#Проверка данных"
      ],
      "metadata": {
        "id": "JX99n4UslKyP"
      }
    },
    {
      "cell_type": "code",
      "source": [
        "data.info()"
      ],
      "metadata": {
        "id": "EUMRPNxwaOCp",
        "colab": {
          "base_uri": "https://localhost:8080/"
        },
        "outputId": "31fc744e-3fee-42b1-a4cb-3fa89aa60afa"
      },
      "execution_count": null,
      "outputs": [
        {
          "output_type": "stream",
          "name": "stdout",
          "text": [
            "<class 'pandas.core.frame.DataFrame'>\n",
            "RangeIndex: 246 entries, 0 to 245\n",
            "Data columns (total 21 columns):\n",
            " #   Column               Non-Null Count  Dtype         \n",
            "---  ------               --------------  -----         \n",
            " 0   id точки             245 non-null    float64       \n",
            " 1   Адрес                246 non-null    object        \n",
            " 2   Широта               242 non-null    float64       \n",
            " 3   Долгота              242 non-null    float64       \n",
            " 4   Дата открытия        246 non-null    object        \n",
            " 5   Дата закрытия        9 non-null      datetime64[ns]\n",
            " 6   Площадь магазина     246 non-null    float64       \n",
            " 7   Тип входа            244 non-null    object        \n",
            " 8   Площадь ТЦ           204 non-null    float64       \n",
            " 9   Формат магазина      246 non-null    object        \n",
            " 10  Парковка             226 non-null    object        \n",
            " 11  Этаж                 241 non-null    object        \n",
            " 12  Время работы         232 non-null    object        \n",
            " 13  Заполненность ТЦ     182 non-null    float64       \n",
            " 14  Рядом с эскалатором  246 non-null    float64       \n",
            " 15  Рядом со входом      246 non-null    float64       \n",
            " 16  Конкуренты в ТЦ      94 non-null     float64       \n",
            " 17  Расположение в ТЦ    224 non-null    float64       \n",
            " 18  Толока               246 non-null    float64       \n",
            " 19  Люкс                 246 non-null    float64       \n",
            " 20  Выборка              245 non-null    object        \n",
            "dtypes: datetime64[ns](1), float64(12), object(8)\n",
            "memory usage: 40.5+ KB\n"
          ]
        }
      ]
    },
    {
      "cell_type": "code",
      "source": [
        "data1.info()"
      ],
      "metadata": {
        "colab": {
          "base_uri": "https://localhost:8080/"
        },
        "id": "7_bRfitckgiD",
        "outputId": "233de2c7-98c5-4593-9126-20729a3f4479"
      },
      "execution_count": null,
      "outputs": [
        {
          "output_type": "stream",
          "name": "stdout",
          "text": [
            "<class 'pandas.core.frame.DataFrame'>\n",
            "RangeIndex: 155 entries, 0 to 154\n",
            "Data columns (total 47 columns):\n",
            " #   Column      Non-Null Count  Dtype  \n",
            "---  ------      --------------  -----  \n",
            " 0   id точки    152 non-null    float64\n",
            " 1   2015-01-01  116 non-null    float64\n",
            " 2   2015-02-01  116 non-null    float64\n",
            " 3   2015-03-01  116 non-null    float64\n",
            " 4   2015-04-01  116 non-null    float64\n",
            " 5   2015-05-01  117 non-null    float64\n",
            " 6   2015-06-01  117 non-null    float64\n",
            " 7   2015-07-01  117 non-null    float64\n",
            " 8   2015-08-01  118 non-null    float64\n",
            " 9   2015-09-01  119 non-null    float64\n",
            " 10  2015-10-01  119 non-null    float64\n",
            " 11  2015-11-01  120 non-null    object \n",
            " 12  2015-12-01  126 non-null    object \n",
            " 13  2016-01-01  127 non-null    object \n",
            " 14  2016-02-01  130 non-null    object \n",
            " 15  2016-03-01  131 non-null    object \n",
            " 16  2016-04-01  131 non-null    object \n",
            " 17  2016-05-01  131 non-null    object \n",
            " 18  2016-06-01  129 non-null    float64\n",
            " 19  2016-07-01  132 non-null    float64\n",
            " 20  2016-08-01  137 non-null    float64\n",
            " 21  2016-09-01  137 non-null    float64\n",
            " 22  2016-10-01  141 non-null    float64\n",
            " 23  2016-11-01  141 non-null    object \n",
            " 24  2016-12-01  143 non-null    object \n",
            " 25  2017-01-01  143 non-null    object \n",
            " 26  2017-02-01  143 non-null    object \n",
            " 27  2017-03-01  144 non-null    float64\n",
            " 28  2017-04-01  145 non-null    float64\n",
            " 29  2017-05-01  144 non-null    float64\n",
            " 30  2017-06-01  145 non-null    float64\n",
            " 31  2017-07-01  147 non-null    float64\n",
            " 32  2017-08-01  147 non-null    float64\n",
            " 33  2017-09-01  148 non-null    float64\n",
            " 34  2017-10-01  151 non-null    float64\n",
            " 35  2017-11-01  151 non-null    float64\n",
            " 36  2017-12-01  152 non-null    float64\n",
            " 37  2018-01-01  151 non-null    float64\n",
            " 38  2018-02-01  151 non-null    float64\n",
            " 39  2018-04-01  152 non-null    float64\n",
            " 40  2018-05-01  151 non-null    float64\n",
            " 41  2018-06-01  151 non-null    float64\n",
            " 42  2018-07-01  151 non-null    float64\n",
            " 43  2018-08-01  153 non-null    float64\n",
            " 44  2018-09-01  153 non-null    float64\n",
            " 45  2018-10-01  152 non-null    float64\n",
            " 46  2018-11-01  153 non-null    float64\n",
            "dtypes: float64(36), object(11)\n",
            "memory usage: 57.0+ KB\n"
          ]
        }
      ]
    },
    {
      "cell_type": "markdown",
      "source": [
        "Спросить про пропуски в ячейках"
      ],
      "metadata": {
        "id": "whabqqSIPkSo"
      }
    },
    {
      "cell_type": "code",
      "source": [
        "data1.isnull().sum()"
      ],
      "metadata": {
        "colab": {
          "base_uri": "https://localhost:8080/"
        },
        "id": "KQexYDuRkgaQ",
        "outputId": "b794a9ad-eed1-4b5d-ce4d-929f76c5d78e"
      },
      "execution_count": null,
      "outputs": [
        {
          "output_type": "execute_result",
          "data": {
            "text/plain": [
              "id точки       3\n",
              "2015-01-01    39\n",
              "2015-02-01    39\n",
              "2015-03-01    39\n",
              "2015-04-01    39\n",
              "2015-05-01    38\n",
              "2015-06-01    38\n",
              "2015-07-01    38\n",
              "2015-08-01    37\n",
              "2015-09-01    36\n",
              "2015-10-01    36\n",
              "2015-11-01    35\n",
              "2015-12-01    29\n",
              "2016-01-01    28\n",
              "2016-02-01    25\n",
              "2016-03-01    24\n",
              "2016-04-01    24\n",
              "2016-05-01    24\n",
              "2016-06-01    26\n",
              "2016-07-01    23\n",
              "2016-08-01    18\n",
              "2016-09-01    18\n",
              "2016-10-01    14\n",
              "2016-11-01    14\n",
              "2016-12-01    12\n",
              "2017-01-01    12\n",
              "2017-02-01    12\n",
              "2017-03-01    11\n",
              "2017-04-01    10\n",
              "2017-05-01    11\n",
              "2017-06-01    10\n",
              "2017-07-01     8\n",
              "2017-08-01     8\n",
              "2017-09-01     7\n",
              "2017-10-01     4\n",
              "2017-11-01     4\n",
              "2017-12-01     3\n",
              "2018-01-01     4\n",
              "2018-02-01     4\n",
              "2018-04-01     3\n",
              "2018-05-01     4\n",
              "2018-06-01     4\n",
              "2018-07-01     4\n",
              "2018-08-01     2\n",
              "2018-09-01     2\n",
              "2018-10-01     3\n",
              "2018-11-01     2\n",
              "dtype: int64"
            ]
          },
          "metadata": {},
          "execution_count": 452
        }
      ]
    },
    {
      "cell_type": "markdown",
      "source": [
        "Спросить про пропуски в выручке, особенно с начала 2015 по середину 2017 года"
      ],
      "metadata": {
        "id": "5b_KSqniP6tf"
      }
    },
    {
      "cell_type": "markdown",
      "source": [
        "## Количетсво полных дубликатов в таблице с торговыми точками"
      ],
      "metadata": {
        "id": "OYlwfMaB11vz"
      }
    },
    {
      "cell_type": "code",
      "source": [
        "data.duplicated().sum()"
      ],
      "metadata": {
        "colab": {
          "base_uri": "https://localhost:8080/"
        },
        "id": "zX5KCgXW1zqK",
        "outputId": "8df3c456-0cd1-4567-8487-5efda074ff38"
      },
      "execution_count": null,
      "outputs": [
        {
          "output_type": "execute_result",
          "data": {
            "text/plain": [
              "1"
            ]
          },
          "metadata": {},
          "execution_count": 453
        }
      ]
    },
    {
      "cell_type": "code",
      "source": [
        "data[data.duplicated()]"
      ],
      "metadata": {
        "colab": {
          "base_uri": "https://localhost:8080/",
          "height": 278
        },
        "id": "Nsi1REU51mT9",
        "outputId": "727960a6-f12c-4558-c9a8-5750dfb98769"
      },
      "execution_count": null,
      "outputs": [
        {
          "output_type": "execute_result",
          "data": {
            "text/plain": [
              "     id точки                                              Адрес     Широта  \\\n",
              "238   42645.0  Респ. Татарстан, г. Нижнекамск, ул. Химиков, д...  51.814376   \n",
              "\n",
              "       Долгота        Дата открытия Дата закрытия  Площадь магазина  \\\n",
              "238  55.631285  2006-04-16 00:00:00           NaT             255.0   \n",
              "\n",
              "                 Тип входа  Площадь ТЦ Формат магазина  ... Этаж  \\\n",
              "238  без сквозного прохода      2887.0         Мини ТЦ  ...  1.0   \n",
              "\n",
              "        Время работы Заполненность ТЦ  Рядом с эскалатором  Рядом со входом  \\\n",
              "238  с 9:00 до 21:00              3.0                  1.0              1.0   \n",
              "\n",
              "     Конкуренты в ТЦ  Расположение в ТЦ     Толока      Люкс    Выборка  \n",
              "238              NaN               10.0  29.981741  54.62069  Обучающая  \n",
              "\n",
              "[1 rows x 21 columns]"
            ],
            "text/html": [
              "\n",
              "  <div id=\"df-1eccf216-805b-4d43-bd06-8ecd58a7258f\">\n",
              "    <div class=\"colab-df-container\">\n",
              "      <div>\n",
              "<style scoped>\n",
              "    .dataframe tbody tr th:only-of-type {\n",
              "        vertical-align: middle;\n",
              "    }\n",
              "\n",
              "    .dataframe tbody tr th {\n",
              "        vertical-align: top;\n",
              "    }\n",
              "\n",
              "    .dataframe thead th {\n",
              "        text-align: right;\n",
              "    }\n",
              "</style>\n",
              "<table border=\"1\" class=\"dataframe\">\n",
              "  <thead>\n",
              "    <tr style=\"text-align: right;\">\n",
              "      <th></th>\n",
              "      <th>id точки</th>\n",
              "      <th>Адрес</th>\n",
              "      <th>Широта</th>\n",
              "      <th>Долгота</th>\n",
              "      <th>Дата открытия</th>\n",
              "      <th>Дата закрытия</th>\n",
              "      <th>Площадь магазина</th>\n",
              "      <th>Тип входа</th>\n",
              "      <th>Площадь ТЦ</th>\n",
              "      <th>Формат магазина</th>\n",
              "      <th>...</th>\n",
              "      <th>Этаж</th>\n",
              "      <th>Время работы</th>\n",
              "      <th>Заполненность ТЦ</th>\n",
              "      <th>Рядом с эскалатором</th>\n",
              "      <th>Рядом со входом</th>\n",
              "      <th>Конкуренты в ТЦ</th>\n",
              "      <th>Расположение в ТЦ</th>\n",
              "      <th>Толока</th>\n",
              "      <th>Люкс</th>\n",
              "      <th>Выборка</th>\n",
              "    </tr>\n",
              "  </thead>\n",
              "  <tbody>\n",
              "    <tr>\n",
              "      <th>238</th>\n",
              "      <td>42645.0</td>\n",
              "      <td>Респ. Татарстан, г. Нижнекамск, ул. Химиков, д...</td>\n",
              "      <td>51.814376</td>\n",
              "      <td>55.631285</td>\n",
              "      <td>2006-04-16 00:00:00</td>\n",
              "      <td>NaT</td>\n",
              "      <td>255.0</td>\n",
              "      <td>без сквозного прохода</td>\n",
              "      <td>2887.0</td>\n",
              "      <td>Мини ТЦ</td>\n",
              "      <td>...</td>\n",
              "      <td>1.0</td>\n",
              "      <td>с 9:00 до 21:00</td>\n",
              "      <td>3.0</td>\n",
              "      <td>1.0</td>\n",
              "      <td>1.0</td>\n",
              "      <td>NaN</td>\n",
              "      <td>10.0</td>\n",
              "      <td>29.981741</td>\n",
              "      <td>54.62069</td>\n",
              "      <td>Обучающая</td>\n",
              "    </tr>\n",
              "  </tbody>\n",
              "</table>\n",
              "<p>1 rows × 21 columns</p>\n",
              "</div>\n",
              "      <button class=\"colab-df-convert\" onclick=\"convertToInteractive('df-1eccf216-805b-4d43-bd06-8ecd58a7258f')\"\n",
              "              title=\"Convert this dataframe to an interactive table.\"\n",
              "              style=\"display:none;\">\n",
              "        \n",
              "  <svg xmlns=\"http://www.w3.org/2000/svg\" height=\"24px\"viewBox=\"0 0 24 24\"\n",
              "       width=\"24px\">\n",
              "    <path d=\"M0 0h24v24H0V0z\" fill=\"none\"/>\n",
              "    <path d=\"M18.56 5.44l.94 2.06.94-2.06 2.06-.94-2.06-.94-.94-2.06-.94 2.06-2.06.94zm-11 1L8.5 8.5l.94-2.06 2.06-.94-2.06-.94L8.5 2.5l-.94 2.06-2.06.94zm10 10l.94 2.06.94-2.06 2.06-.94-2.06-.94-.94-2.06-.94 2.06-2.06.94z\"/><path d=\"M17.41 7.96l-1.37-1.37c-.4-.4-.92-.59-1.43-.59-.52 0-1.04.2-1.43.59L10.3 9.45l-7.72 7.72c-.78.78-.78 2.05 0 2.83L4 21.41c.39.39.9.59 1.41.59.51 0 1.02-.2 1.41-.59l7.78-7.78 2.81-2.81c.8-.78.8-2.07 0-2.86zM5.41 20L4 18.59l7.72-7.72 1.47 1.35L5.41 20z\"/>\n",
              "  </svg>\n",
              "      </button>\n",
              "      \n",
              "  <style>\n",
              "    .colab-df-container {\n",
              "      display:flex;\n",
              "      flex-wrap:wrap;\n",
              "      gap: 12px;\n",
              "    }\n",
              "\n",
              "    .colab-df-convert {\n",
              "      background-color: #E8F0FE;\n",
              "      border: none;\n",
              "      border-radius: 50%;\n",
              "      cursor: pointer;\n",
              "      display: none;\n",
              "      fill: #1967D2;\n",
              "      height: 32px;\n",
              "      padding: 0 0 0 0;\n",
              "      width: 32px;\n",
              "    }\n",
              "\n",
              "    .colab-df-convert:hover {\n",
              "      background-color: #E2EBFA;\n",
              "      box-shadow: 0px 1px 2px rgba(60, 64, 67, 0.3), 0px 1px 3px 1px rgba(60, 64, 67, 0.15);\n",
              "      fill: #174EA6;\n",
              "    }\n",
              "\n",
              "    [theme=dark] .colab-df-convert {\n",
              "      background-color: #3B4455;\n",
              "      fill: #D2E3FC;\n",
              "    }\n",
              "\n",
              "    [theme=dark] .colab-df-convert:hover {\n",
              "      background-color: #434B5C;\n",
              "      box-shadow: 0px 1px 3px 1px rgba(0, 0, 0, 0.15);\n",
              "      filter: drop-shadow(0px 1px 2px rgba(0, 0, 0, 0.3));\n",
              "      fill: #FFFFFF;\n",
              "    }\n",
              "  </style>\n",
              "\n",
              "      <script>\n",
              "        const buttonEl =\n",
              "          document.querySelector('#df-1eccf216-805b-4d43-bd06-8ecd58a7258f button.colab-df-convert');\n",
              "        buttonEl.style.display =\n",
              "          google.colab.kernel.accessAllowed ? 'block' : 'none';\n",
              "\n",
              "        async function convertToInteractive(key) {\n",
              "          const element = document.querySelector('#df-1eccf216-805b-4d43-bd06-8ecd58a7258f');\n",
              "          const dataTable =\n",
              "            await google.colab.kernel.invokeFunction('convertToInteractive',\n",
              "                                                     [key], {});\n",
              "          if (!dataTable) return;\n",
              "\n",
              "          const docLinkHtml = 'Like what you see? Visit the ' +\n",
              "            '<a target=\"_blank\" href=https://colab.research.google.com/notebooks/data_table.ipynb>data table notebook</a>'\n",
              "            + ' to learn more about interactive tables.';\n",
              "          element.innerHTML = '';\n",
              "          dataTable['output_type'] = 'display_data';\n",
              "          await google.colab.output.renderOutput(dataTable, element);\n",
              "          const docLink = document.createElement('div');\n",
              "          docLink.innerHTML = docLinkHtml;\n",
              "          element.appendChild(docLink);\n",
              "        }\n",
              "      </script>\n",
              "    </div>\n",
              "  </div>\n",
              "  "
            ]
          },
          "metadata": {},
          "execution_count": 454
        }
      ]
    },
    {
      "cell_type": "code",
      "source": [
        "data.drop_duplicates(inplace=True) #удалим дубликат"
      ],
      "metadata": {
        "id": "QaFpisucaGE9"
      },
      "execution_count": null,
      "outputs": []
    },
    {
      "cell_type": "markdown",
      "source": [
        "## Просмотр повторяющихся значений отдельно по столбцам (примем что уникальными должны быть как минимум id и адрес)"
      ],
      "metadata": {
        "id": "OOGrbTj5XbYZ"
      }
    },
    {
      "cell_type": "code",
      "source": [
        "for names, values in data.iloc[:, 0:2].iteritems():\n",
        "  print('*********************************************************************************')\n",
        "  print(f'Столбец в котором обнаружено повторение: {names}')\n",
        "  print(data[data[names].duplicated()])"
      ],
      "metadata": {
        "colab": {
          "base_uri": "https://localhost:8080/"
        },
        "id": "O5MQhk_1VV3q",
        "outputId": "ec9c2e37-6da3-48b5-8bd9-421a13746da8"
      },
      "execution_count": null,
      "outputs": [
        {
          "output_type": "stream",
          "name": "stdout",
          "text": [
            "*********************************************************************************\n",
            "Столбец в котором обнаружено повторение: id точки\n",
            "     id точки                                           Адрес     Широта  \\\n",
            "195   42683.0  Россия, Пермский край, Пермь, улица Попова, 16  56.228132   \n",
            "\n",
            "       Долгота        Дата открытия Дата закрытия  Площадь магазина  \\\n",
            "195  58.008433  2012-07-15 00:00:00           NaT             277.0   \n",
            "\n",
            "                 Тип входа  Площадь ТЦ Формат магазина  ... Этаж  \\\n",
            "195  без сквозного прохода      6400.0         Мини ТЦ  ...  1.0   \n",
            "\n",
            "         Время работы Заполненность ТЦ  Рядом с эскалатором  Рядом со входом  \\\n",
            "195  с 10:00 до 21:00              NaN                  0.0              0.0   \n",
            "\n",
            "     Конкуренты в ТЦ  Расположение в ТЦ     Толока       Люкс    Выборка  \n",
            "195              NaN                8.0  33.196617  63.896552  Обучающая  \n",
            "\n",
            "[1 rows x 21 columns]\n",
            "*********************************************************************************\n",
            "Столбец в котором обнаружено повторение: Адрес\n",
            "    id точки                                              Адрес     Широта  \\\n",
            "77   42085.0  г. Санкт-Петербург, пл. Александра Невского, д...  30.386566   \n",
            "\n",
            "      Долгота        Дата открытия Дата закрытия  Площадь магазина  \\\n",
            "77  59.924573  2007-06-20 00:00:00           NaT             313.0   \n",
            "\n",
            "                 Тип входа  Площадь ТЦ Формат магазина  ... Этаж  \\\n",
            "77  отдельный вход с улицы     90000.0              ТЦ  ...  1.0   \n",
            "\n",
            "        Время работы Заполненность ТЦ  Рядом с эскалатором  Рядом со входом  \\\n",
            "77  с 10:00 до 21:00              NaN                  0.0              1.0   \n",
            "\n",
            "    Конкуренты в ТЦ  Расположение в ТЦ     Толока       Люкс    Выборка  \n",
            "77              0.0               10.0  51.431866  67.137931  Обучающая  \n",
            "\n",
            "[1 rows x 21 columns]\n"
          ]
        }
      ]
    },
    {
      "cell_type": "markdown",
      "source": [
        "## Количество полных дубликатов в таблице с выручкой"
      ],
      "metadata": {
        "id": "rsrcAMNB1-db"
      }
    },
    {
      "cell_type": "code",
      "source": [
        "data1.duplicated().sum()"
      ],
      "metadata": {
        "colab": {
          "base_uri": "https://localhost:8080/"
        },
        "id": "y0borJ5SmWTg",
        "outputId": "2c8bd237-cb8e-4dd3-d9ae-9455416d2d89"
      },
      "execution_count": null,
      "outputs": [
        {
          "output_type": "execute_result",
          "data": {
            "text/plain": [
              "0"
            ]
          },
          "metadata": {},
          "execution_count": 457
        }
      ]
    },
    {
      "cell_type": "markdown",
      "source": [
        "## Посчитаем количество значений в столбцах (нас интересуют побольшей части категориальные признаки, т.к. в данных есть неоднородность обозначений)"
      ],
      "metadata": {
        "id": "n8Wq5Z0XwfAH"
      }
    },
    {
      "cell_type": "code",
      "source": [
        "for names, values in data.iloc[:, np.r_[7, 9:21]].iteritems():\n",
        "  print('*********************************************************************************')\n",
        "  print(f'Количество значений в столбце {names}:')\n",
        "  print(data[names].value_counts(dropna = False))"
      ],
      "metadata": {
        "colab": {
          "base_uri": "https://localhost:8080/"
        },
        "id": "jzGYruq0wP4W",
        "outputId": "fdd7d694-8fa8-47c6-dae1-f868012d1ff2"
      },
      "execution_count": null,
      "outputs": [
        {
          "output_type": "stream",
          "name": "stdout",
          "text": [
            "*********************************************************************************\n",
            "Количество значений в столбце Тип входа:\n",
            "без сквозного прохода                       138\n",
            "сквозной проход                              46\n",
            "отдельный вход с улицы                       36\n",
            "отдельный вход с улицы + сквозной проход     17\n",
            "единственный вход в ТК                        6\n",
            "NaN                                           2\n",
            "Name: Тип входа, dtype: int64\n",
            "*********************************************************************************\n",
            "Количество значений в столбце Формат магазина:\n",
            "ТЦ         191\n",
            "Мини ТЦ     27\n",
            "Street      18\n",
            "Стрит        4\n",
            "Мини-ТЦ      3\n",
            "Strееt       1\n",
            "Стрт         1\n",
            "Name: Формат магазина, dtype: int64\n",
            "*********************************************************************************\n",
            "Количество значений в столбце Парковка:\n",
            "бесплатная парковка    155\n",
            "нет парковки            34\n",
            "платная парковка        31\n",
            "NaN                     20\n",
            "100.0                    2\n",
            "1000.0                   1\n",
            "700.0                    1\n",
            "бесплатная паpковка      1\n",
            "Name: Парковка, dtype: int64\n",
            "*********************************************************************************\n",
            "Количество значений в столбце Этаж:\n",
            "1.0                    215\n",
            "3.0                     10\n",
            "2.0                      7\n",
            "цоколь                   5\n",
            "NaN                      5\n",
            "4.5                      1\n",
            "20.0                     1\n",
            "2019-05-02 00:00:00      1\n",
            "Name: Этаж, dtype: int64\n",
            "*********************************************************************************\n",
            "Количество значений в столбце Время работы:\n",
            "с 10:00 до 22:00                                                            129\n",
            "с 10:00 до 21:00                                                             63\n",
            "NaN                                                                          14\n",
            "с 9:00 до 21:00                                                               7\n",
            "Вс-Чт с 10:00 до 22:00 Пт-Сб с 10:00 до 23:00                                 4\n",
            "Пн-Сб с 10:00 до 21:00  Вс с 11:00 до 21:00                                   3\n",
            "с 10:00 до 23:00                                                              3\n",
            "с 11:00 до 21:00                                                              2\n",
            "c 9:00 до 21:00                                                               2\n",
            "Вс-Чт c 10:00 до 23:00           Пт-Сб с 10:00 до 24:00                       2\n",
            "c 10-00 до 21-00                                                              1\n",
            "Вс-Чт с 10:00 до 23:00 Пт-Сб с 10:00 до 24:00                                 1\n",
            "Вс-Чт c 10:00 до 21:00    Пт-Сб с 10:00 до 22:00                              1\n",
            "Пн-Сб с 10:00 до 20:00 Вс с 10:00 до 19:00                                    1\n",
            "Вс-Чт с 10:00 до 21:00     Пт-Сб с  10:00 до 22:00                            1\n",
            "Вс-Чт с 10:00 до 22:00    Пт-Сб с 10:00 до 23:00                              1\n",
            "Пн-Сб c 10:00 до 20:00 Вс с 10:00 до 19:00                                    1\n",
            "с 10:00 до 22:00                                                              1\n",
            "Вс-Чт c 10:00 до 21:00           Пт-Сб с 10:00 до 22:00                       1\n",
            "Вс-Чт c 10:00 до 22:00           Пт-Сб с 10:00 до 23:00                       1\n",
            "с 9:00 до 23:00                                                               1\n",
            "c 10:00 до 24:00                                                              1\n",
            "Пн-Пт с 9:00 до 20:00    Сб с 10:00 до 19:00         Вс с 10:00 до 18:00      1\n",
            "Пн-Сб с 10:00 до 21:00 Вс с 10:00 до 20:00                                    1\n",
            "с 10:00 до 20:00                                                              1\n",
            "с 10-00 до 22:00                                                              1\n",
            "Name: Время работы, dtype: int64\n",
            "*********************************************************************************\n",
            "Количество значений в столбце Заполненность ТЦ:\n",
            "3.0    120\n",
            "NaN     64\n",
            "2.0     35\n",
            "1.0     17\n",
            "0.0      9\n",
            "Name: Заполненность ТЦ, dtype: int64\n",
            "*********************************************************************************\n",
            "Количество значений в столбце Рядом с эскалатором:\n",
            "0.0    136\n",
            "1.0    108\n",
            "2.0      1\n",
            "Name: Рядом с эскалатором, dtype: int64\n",
            "*********************************************************************************\n",
            "Количество значений в столбце Рядом со входом:\n",
            "0.0    130\n",
            "1.0    112\n",
            "2.0      2\n",
            "3.0      1\n",
            "Name: Рядом со входом, dtype: int64\n",
            "*********************************************************************************\n",
            "Количество значений в столбце Конкуренты в ТЦ:\n",
            "NaN    151\n",
            "1.0     46\n",
            "0.0     35\n",
            "2.0     12\n",
            "3.0      1\n",
            "Name: Конкуренты в ТЦ, dtype: int64\n",
            "*********************************************************************************\n",
            "Количество значений в столбце Расположение в ТЦ:\n",
            "10.0    37\n",
            "9.0     33\n",
            "8.0     30\n",
            "7.0     22\n",
            "NaN     22\n",
            "11.0    16\n",
            "6.0     15\n",
            "5.0     15\n",
            "4.0     14\n",
            "12.0    11\n",
            "3.0      7\n",
            "13.0     6\n",
            "14.0     5\n",
            "2.0      5\n",
            "1.0      3\n",
            "1.5      1\n",
            "10.5     1\n",
            "0.0      1\n",
            "7.5      1\n",
            "Name: Расположение в ТЦ, dtype: int64\n",
            "*********************************************************************************\n",
            "Количество значений в столбце Толока:\n",
            "248.234096    2\n",
            "28.381511     2\n",
            "35.277917     2\n",
            "93.000000     2\n",
            "51.027292     2\n",
            "             ..\n",
            "59.115702     1\n",
            "31.695752     1\n",
            "35.258120     1\n",
            "32.486835     1\n",
            "27.845666     1\n",
            "Name: Толока, Length: 228, dtype: int64\n",
            "*********************************************************************************\n",
            "Количество значений в столбце Люкс:\n",
            "62.758621    3\n",
            "73.965517    3\n",
            "70.379310    3\n",
            "64.034483    3\n",
            "66.000000    2\n",
            "            ..\n",
            "68.363636    1\n",
            "48.413793    1\n",
            "74.172414    1\n",
            "57.448276    1\n",
            "47.896552    1\n",
            "Name: Люкс, Length: 212, dtype: int64\n",
            "*********************************************************************************\n",
            "Количество значений в столбце Выборка:\n",
            "Обучающая    155\n",
            "Тестовая      77\n",
            "-             10\n",
            "NaN            1\n",
            "Тест           1\n",
            "Обyчающая      1\n",
            "Name: Выборка, dtype: int64\n"
          ]
        }
      ]
    },
    {
      "cell_type": "markdown",
      "source": [
        "#Ответы на вопросы:"
      ],
      "metadata": {
        "id": "7udS4TA31CED"
      }
    },
    {
      "cell_type": "markdown",
      "source": [
        "## Количество магазинов формата street в тестовой выборке"
      ],
      "metadata": {
        "id": "fMLNGOKoCqNw"
      }
    },
    {
      "cell_type": "code",
      "source": [
        "street_count = data[data['Выборка']=='Тестовая']['Формат магазина'].value_counts()"
      ],
      "metadata": {
        "id": "GbWovZ5u35tM"
      },
      "execution_count": null,
      "outputs": []
    },
    {
      "cell_type": "code",
      "source": [
        "street_count"
      ],
      "metadata": {
        "colab": {
          "base_uri": "https://localhost:8080/"
        },
        "id": "mNpV-335ATCu",
        "outputId": "943c982e-e824-486f-9a53-e719eda9910b"
      },
      "execution_count": null,
      "outputs": [
        {
          "output_type": "execute_result",
          "data": {
            "text/plain": [
              "ТЦ         63\n",
              "Мини ТЦ     6\n",
              "Стрит       3\n",
              "Street      3\n",
              "Strееt      1\n",
              "Мини-ТЦ     1\n",
              "Name: Формат магазина, dtype: int64"
            ]
          },
          "metadata": {},
          "execution_count": 460
        }
      ]
    },
    {
      "cell_type": "markdown",
      "source": [
        "Таких магазинов 7."
      ],
      "metadata": {
        "id": "IYoN2ogiCpOM"
      }
    },
    {
      "cell_type": "code",
      "source": [
        "print(f'Количество магазинов формата street в тестовой выборке: %s' % (street_count[2:5].sum()))"
      ],
      "metadata": {
        "colab": {
          "base_uri": "https://localhost:8080/"
        },
        "id": "pll7lM4r35i2",
        "outputId": "814daa84-901f-4d20-c1f0-28e16a73835f"
      },
      "execution_count": null,
      "outputs": [
        {
          "output_type": "stream",
          "name": "stdout",
          "text": [
            "Количество магазинов формата street в тестовой выборке: 7\n"
          ]
        }
      ]
    },
    {
      "cell_type": "markdown",
      "source": [
        "##Какова средняя выручка магазинов формата мини ТЦ за 2016"
      ],
      "metadata": {
        "id": "QBWQlN_rDbKI"
      }
    },
    {
      "cell_type": "code",
      "source": [
        "indx = data[data['Формат магазина'].isin(['Мини ТЦ','Мини-ТЦ'])]['id точки'].dropna()"
      ],
      "metadata": {
        "id": "iM_TuT-jh28f"
      },
      "execution_count": null,
      "outputs": []
    },
    {
      "cell_type": "code",
      "source": [
        "cut = data1.loc[data1['id точки'].isin(indx)]"
      ],
      "metadata": {
        "id": "EWrxwoVTdIdt"
      },
      "execution_count": null,
      "outputs": []
    },
    {
      "cell_type": "code",
      "source": [
        "cut.head(3)"
      ],
      "metadata": {
        "colab": {
          "base_uri": "https://localhost:8080/",
          "height": 254
        },
        "id": "FXPdCLbOOXDO",
        "outputId": "61938852-71d4-484a-fa0c-9e465ac11edd"
      },
      "execution_count": null,
      "outputs": [
        {
          "output_type": "execute_result",
          "data": {
            "text/plain": [
              "    id точки  2015-01-01     2015-02-01     2015-03-01  2015-04-01  \\\n",
              "11   18728.0   337679.02  505983.520415  615360.263226  500352.832   \n",
              "14   41824.0   294160.86  332418.278571  420586.925516  343592.490   \n",
              "23   41933.0   109865.82  126723.117857  152200.364516  107882.820   \n",
              "\n",
              "       2015-05-01     2015-06-01     2015-07-01     2015-08-01  2015-09-01  \\\n",
              "11  425920.356129  430724.373333  375469.775484  393728.196129  424960.032   \n",
              "14  304774.200000  286569.600000  276055.519355  281996.941935  318999.450   \n",
              "23   91019.583871   99189.210000   95974.809677   97722.667742   99790.740   \n",
              "\n",
              "    ...     2018-01-01     2018-02-01     2018-04-01     2018-05-01  \\\n",
              "11  ...  373410.949707  468561.200000  399674.202667  407408.598710   \n",
              "14  ...  284639.819100  320274.064286  282319.110000  283913.593548   \n",
              "23  ...  137483.579100  142133.207143  108691.770000  109184.160000   \n",
              "\n",
              "    2018-06-01     2018-07-01     2018-08-01     2018-09-01     2018-10-01  \\\n",
              "11  400067.472  347254.880000  394659.819355  365415.978293  434216.701935   \n",
              "14  282723.540  245294.738710  261821.583871  258710.340000  297493.141935   \n",
              "23  113969.910  106091.883871  119400.474194  100425.300000  113579.506452   \n",
              "\n",
              "    2018-11-01  \n",
              "11  467342.736  \n",
              "14  306374.580  \n",
              "23  120492.780  \n",
              "\n",
              "[3 rows x 47 columns]"
            ],
            "text/html": [
              "\n",
              "  <div id=\"df-2bc4075f-d9ba-4fd4-8eb8-2037f18f1e5d\">\n",
              "    <div class=\"colab-df-container\">\n",
              "      <div>\n",
              "<style scoped>\n",
              "    .dataframe tbody tr th:only-of-type {\n",
              "        vertical-align: middle;\n",
              "    }\n",
              "\n",
              "    .dataframe tbody tr th {\n",
              "        vertical-align: top;\n",
              "    }\n",
              "\n",
              "    .dataframe thead th {\n",
              "        text-align: right;\n",
              "    }\n",
              "</style>\n",
              "<table border=\"1\" class=\"dataframe\">\n",
              "  <thead>\n",
              "    <tr style=\"text-align: right;\">\n",
              "      <th></th>\n",
              "      <th>id точки</th>\n",
              "      <th>2015-01-01</th>\n",
              "      <th>2015-02-01</th>\n",
              "      <th>2015-03-01</th>\n",
              "      <th>2015-04-01</th>\n",
              "      <th>2015-05-01</th>\n",
              "      <th>2015-06-01</th>\n",
              "      <th>2015-07-01</th>\n",
              "      <th>2015-08-01</th>\n",
              "      <th>2015-09-01</th>\n",
              "      <th>...</th>\n",
              "      <th>2018-01-01</th>\n",
              "      <th>2018-02-01</th>\n",
              "      <th>2018-04-01</th>\n",
              "      <th>2018-05-01</th>\n",
              "      <th>2018-06-01</th>\n",
              "      <th>2018-07-01</th>\n",
              "      <th>2018-08-01</th>\n",
              "      <th>2018-09-01</th>\n",
              "      <th>2018-10-01</th>\n",
              "      <th>2018-11-01</th>\n",
              "    </tr>\n",
              "  </thead>\n",
              "  <tbody>\n",
              "    <tr>\n",
              "      <th>11</th>\n",
              "      <td>18728.0</td>\n",
              "      <td>337679.02</td>\n",
              "      <td>505983.520415</td>\n",
              "      <td>615360.263226</td>\n",
              "      <td>500352.832</td>\n",
              "      <td>425920.356129</td>\n",
              "      <td>430724.373333</td>\n",
              "      <td>375469.775484</td>\n",
              "      <td>393728.196129</td>\n",
              "      <td>424960.032</td>\n",
              "      <td>...</td>\n",
              "      <td>373410.949707</td>\n",
              "      <td>468561.200000</td>\n",
              "      <td>399674.202667</td>\n",
              "      <td>407408.598710</td>\n",
              "      <td>400067.472</td>\n",
              "      <td>347254.880000</td>\n",
              "      <td>394659.819355</td>\n",
              "      <td>365415.978293</td>\n",
              "      <td>434216.701935</td>\n",
              "      <td>467342.736</td>\n",
              "    </tr>\n",
              "    <tr>\n",
              "      <th>14</th>\n",
              "      <td>41824.0</td>\n",
              "      <td>294160.86</td>\n",
              "      <td>332418.278571</td>\n",
              "      <td>420586.925516</td>\n",
              "      <td>343592.490</td>\n",
              "      <td>304774.200000</td>\n",
              "      <td>286569.600000</td>\n",
              "      <td>276055.519355</td>\n",
              "      <td>281996.941935</td>\n",
              "      <td>318999.450</td>\n",
              "      <td>...</td>\n",
              "      <td>284639.819100</td>\n",
              "      <td>320274.064286</td>\n",
              "      <td>282319.110000</td>\n",
              "      <td>283913.593548</td>\n",
              "      <td>282723.540</td>\n",
              "      <td>245294.738710</td>\n",
              "      <td>261821.583871</td>\n",
              "      <td>258710.340000</td>\n",
              "      <td>297493.141935</td>\n",
              "      <td>306374.580</td>\n",
              "    </tr>\n",
              "    <tr>\n",
              "      <th>23</th>\n",
              "      <td>41933.0</td>\n",
              "      <td>109865.82</td>\n",
              "      <td>126723.117857</td>\n",
              "      <td>152200.364516</td>\n",
              "      <td>107882.820</td>\n",
              "      <td>91019.583871</td>\n",
              "      <td>99189.210000</td>\n",
              "      <td>95974.809677</td>\n",
              "      <td>97722.667742</td>\n",
              "      <td>99790.740</td>\n",
              "      <td>...</td>\n",
              "      <td>137483.579100</td>\n",
              "      <td>142133.207143</td>\n",
              "      <td>108691.770000</td>\n",
              "      <td>109184.160000</td>\n",
              "      <td>113969.910</td>\n",
              "      <td>106091.883871</td>\n",
              "      <td>119400.474194</td>\n",
              "      <td>100425.300000</td>\n",
              "      <td>113579.506452</td>\n",
              "      <td>120492.780</td>\n",
              "    </tr>\n",
              "  </tbody>\n",
              "</table>\n",
              "<p>3 rows × 47 columns</p>\n",
              "</div>\n",
              "      <button class=\"colab-df-convert\" onclick=\"convertToInteractive('df-2bc4075f-d9ba-4fd4-8eb8-2037f18f1e5d')\"\n",
              "              title=\"Convert this dataframe to an interactive table.\"\n",
              "              style=\"display:none;\">\n",
              "        \n",
              "  <svg xmlns=\"http://www.w3.org/2000/svg\" height=\"24px\"viewBox=\"0 0 24 24\"\n",
              "       width=\"24px\">\n",
              "    <path d=\"M0 0h24v24H0V0z\" fill=\"none\"/>\n",
              "    <path d=\"M18.56 5.44l.94 2.06.94-2.06 2.06-.94-2.06-.94-.94-2.06-.94 2.06-2.06.94zm-11 1L8.5 8.5l.94-2.06 2.06-.94-2.06-.94L8.5 2.5l-.94 2.06-2.06.94zm10 10l.94 2.06.94-2.06 2.06-.94-2.06-.94-.94-2.06-.94 2.06-2.06.94z\"/><path d=\"M17.41 7.96l-1.37-1.37c-.4-.4-.92-.59-1.43-.59-.52 0-1.04.2-1.43.59L10.3 9.45l-7.72 7.72c-.78.78-.78 2.05 0 2.83L4 21.41c.39.39.9.59 1.41.59.51 0 1.02-.2 1.41-.59l7.78-7.78 2.81-2.81c.8-.78.8-2.07 0-2.86zM5.41 20L4 18.59l7.72-7.72 1.47 1.35L5.41 20z\"/>\n",
              "  </svg>\n",
              "      </button>\n",
              "      \n",
              "  <style>\n",
              "    .colab-df-container {\n",
              "      display:flex;\n",
              "      flex-wrap:wrap;\n",
              "      gap: 12px;\n",
              "    }\n",
              "\n",
              "    .colab-df-convert {\n",
              "      background-color: #E8F0FE;\n",
              "      border: none;\n",
              "      border-radius: 50%;\n",
              "      cursor: pointer;\n",
              "      display: none;\n",
              "      fill: #1967D2;\n",
              "      height: 32px;\n",
              "      padding: 0 0 0 0;\n",
              "      width: 32px;\n",
              "    }\n",
              "\n",
              "    .colab-df-convert:hover {\n",
              "      background-color: #E2EBFA;\n",
              "      box-shadow: 0px 1px 2px rgba(60, 64, 67, 0.3), 0px 1px 3px 1px rgba(60, 64, 67, 0.15);\n",
              "      fill: #174EA6;\n",
              "    }\n",
              "\n",
              "    [theme=dark] .colab-df-convert {\n",
              "      background-color: #3B4455;\n",
              "      fill: #D2E3FC;\n",
              "    }\n",
              "\n",
              "    [theme=dark] .colab-df-convert:hover {\n",
              "      background-color: #434B5C;\n",
              "      box-shadow: 0px 1px 3px 1px rgba(0, 0, 0, 0.15);\n",
              "      filter: drop-shadow(0px 1px 2px rgba(0, 0, 0, 0.3));\n",
              "      fill: #FFFFFF;\n",
              "    }\n",
              "  </style>\n",
              "\n",
              "      <script>\n",
              "        const buttonEl =\n",
              "          document.querySelector('#df-2bc4075f-d9ba-4fd4-8eb8-2037f18f1e5d button.colab-df-convert');\n",
              "        buttonEl.style.display =\n",
              "          google.colab.kernel.accessAllowed ? 'block' : 'none';\n",
              "\n",
              "        async function convertToInteractive(key) {\n",
              "          const element = document.querySelector('#df-2bc4075f-d9ba-4fd4-8eb8-2037f18f1e5d');\n",
              "          const dataTable =\n",
              "            await google.colab.kernel.invokeFunction('convertToInteractive',\n",
              "                                                     [key], {});\n",
              "          if (!dataTable) return;\n",
              "\n",
              "          const docLinkHtml = 'Like what you see? Visit the ' +\n",
              "            '<a target=\"_blank\" href=https://colab.research.google.com/notebooks/data_table.ipynb>data table notebook</a>'\n",
              "            + ' to learn more about interactive tables.';\n",
              "          element.innerHTML = '';\n",
              "          dataTable['output_type'] = 'display_data';\n",
              "          await google.colab.output.renderOutput(dataTable, element);\n",
              "          const docLink = document.createElement('div');\n",
              "          docLink.innerHTML = docLinkHtml;\n",
              "          element.appendChild(docLink);\n",
              "        }\n",
              "      </script>\n",
              "    </div>\n",
              "  </div>\n",
              "  "
            ]
          },
          "metadata": {},
          "execution_count": 483
        }
      ]
    },
    {
      "cell_type": "code",
      "source": [
        "cut = cut.iloc[:, 13:25]"
      ],
      "metadata": {
        "id": "UAxVsyOdDZ_k"
      },
      "execution_count": null,
      "outputs": []
    },
    {
      "cell_type": "code",
      "source": [
        "cut.head()"
      ],
      "metadata": {
        "colab": {
          "base_uri": "https://localhost:8080/",
          "height": 250
        },
        "id": "4kYoB8yomD7h",
        "outputId": "68e10aa2-4e1c-4929-e1fa-f9ccc6293263"
      },
      "execution_count": null,
      "outputs": [
        {
          "output_type": "execute_result",
          "data": {
            "text/plain": [
              "       2016-01-01     2016-02-01     2016-03-01  2016-04-01     2016-05-01  \\\n",
              "11      367034.64      518191.52  612575.473548    462814.8   477767.72129   \n",
              "14      288251.64  380476.893103  409749.793548   335297.01  341503.345161   \n",
              "23       96125.46  131703.051724   166441.23871   103033.83      109410.63   \n",
              "42   618664.28442  778685.648276   948356.72129   610125.39  648604.550319   \n",
              "56  157156.285333  219535.906897  263464.079355  180751.274  174377.539355   \n",
              "\n",
              "       2016-06-01     2016-07-01     2016-08-01     2016-09-01     2016-10-01  \\\n",
              "11  451050.096000  401384.010323  383641.476129  422102.426667  422386.720000   \n",
              "14  310039.590000  273176.738710  293777.854839  343191.180000  338595.300000   \n",
              "23  107573.640000   98078.632258  115117.374194  104382.240000  132300.493548   \n",
              "42  628196.226000  541807.499032  548504.053548  589191.498000  637511.713548   \n",
              "56  200850.477333  172807.401290  181212.264516  182401.356000  210517.014194   \n",
              "\n",
              "       2016-11-01      2016-12-01           sum  \n",
              "11  405809.077707     856554.5744  2.080565e+06  \n",
              "14      311294.64   588298.821097  1.558781e+06  \n",
              "23      102602.67   228666.224032  5.574524e+05  \n",
              "42   627179.86758  1422015.153503  2.945211e+06  \n",
              "56  161834.140093   288096.281471  9.477885e+05  "
            ],
            "text/html": [
              "\n",
              "  <div id=\"df-b786e5b3-6e64-4a71-b211-9a29b76395ed\">\n",
              "    <div class=\"colab-df-container\">\n",
              "      <div>\n",
              "<style scoped>\n",
              "    .dataframe tbody tr th:only-of-type {\n",
              "        vertical-align: middle;\n",
              "    }\n",
              "\n",
              "    .dataframe tbody tr th {\n",
              "        vertical-align: top;\n",
              "    }\n",
              "\n",
              "    .dataframe thead th {\n",
              "        text-align: right;\n",
              "    }\n",
              "</style>\n",
              "<table border=\"1\" class=\"dataframe\">\n",
              "  <thead>\n",
              "    <tr style=\"text-align: right;\">\n",
              "      <th></th>\n",
              "      <th>2016-01-01</th>\n",
              "      <th>2016-02-01</th>\n",
              "      <th>2016-03-01</th>\n",
              "      <th>2016-04-01</th>\n",
              "      <th>2016-05-01</th>\n",
              "      <th>2016-06-01</th>\n",
              "      <th>2016-07-01</th>\n",
              "      <th>2016-08-01</th>\n",
              "      <th>2016-09-01</th>\n",
              "      <th>2016-10-01</th>\n",
              "      <th>2016-11-01</th>\n",
              "      <th>2016-12-01</th>\n",
              "      <th>sum</th>\n",
              "    </tr>\n",
              "  </thead>\n",
              "  <tbody>\n",
              "    <tr>\n",
              "      <th>11</th>\n",
              "      <td>367034.64</td>\n",
              "      <td>518191.52</td>\n",
              "      <td>612575.473548</td>\n",
              "      <td>462814.8</td>\n",
              "      <td>477767.72129</td>\n",
              "      <td>451050.096000</td>\n",
              "      <td>401384.010323</td>\n",
              "      <td>383641.476129</td>\n",
              "      <td>422102.426667</td>\n",
              "      <td>422386.720000</td>\n",
              "      <td>405809.077707</td>\n",
              "      <td>856554.5744</td>\n",
              "      <td>2.080565e+06</td>\n",
              "    </tr>\n",
              "    <tr>\n",
              "      <th>14</th>\n",
              "      <td>288251.64</td>\n",
              "      <td>380476.893103</td>\n",
              "      <td>409749.793548</td>\n",
              "      <td>335297.01</td>\n",
              "      <td>341503.345161</td>\n",
              "      <td>310039.590000</td>\n",
              "      <td>273176.738710</td>\n",
              "      <td>293777.854839</td>\n",
              "      <td>343191.180000</td>\n",
              "      <td>338595.300000</td>\n",
              "      <td>311294.64</td>\n",
              "      <td>588298.821097</td>\n",
              "      <td>1.558781e+06</td>\n",
              "    </tr>\n",
              "    <tr>\n",
              "      <th>23</th>\n",
              "      <td>96125.46</td>\n",
              "      <td>131703.051724</td>\n",
              "      <td>166441.23871</td>\n",
              "      <td>103033.83</td>\n",
              "      <td>109410.63</td>\n",
              "      <td>107573.640000</td>\n",
              "      <td>98078.632258</td>\n",
              "      <td>115117.374194</td>\n",
              "      <td>104382.240000</td>\n",
              "      <td>132300.493548</td>\n",
              "      <td>102602.67</td>\n",
              "      <td>228666.224032</td>\n",
              "      <td>5.574524e+05</td>\n",
              "    </tr>\n",
              "    <tr>\n",
              "      <th>42</th>\n",
              "      <td>618664.28442</td>\n",
              "      <td>778685.648276</td>\n",
              "      <td>948356.72129</td>\n",
              "      <td>610125.39</td>\n",
              "      <td>648604.550319</td>\n",
              "      <td>628196.226000</td>\n",
              "      <td>541807.499032</td>\n",
              "      <td>548504.053548</td>\n",
              "      <td>589191.498000</td>\n",
              "      <td>637511.713548</td>\n",
              "      <td>627179.86758</td>\n",
              "      <td>1422015.153503</td>\n",
              "      <td>2.945211e+06</td>\n",
              "    </tr>\n",
              "    <tr>\n",
              "      <th>56</th>\n",
              "      <td>157156.285333</td>\n",
              "      <td>219535.906897</td>\n",
              "      <td>263464.079355</td>\n",
              "      <td>180751.274</td>\n",
              "      <td>174377.539355</td>\n",
              "      <td>200850.477333</td>\n",
              "      <td>172807.401290</td>\n",
              "      <td>181212.264516</td>\n",
              "      <td>182401.356000</td>\n",
              "      <td>210517.014194</td>\n",
              "      <td>161834.140093</td>\n",
              "      <td>288096.281471</td>\n",
              "      <td>9.477885e+05</td>\n",
              "    </tr>\n",
              "  </tbody>\n",
              "</table>\n",
              "</div>\n",
              "      <button class=\"colab-df-convert\" onclick=\"convertToInteractive('df-b786e5b3-6e64-4a71-b211-9a29b76395ed')\"\n",
              "              title=\"Convert this dataframe to an interactive table.\"\n",
              "              style=\"display:none;\">\n",
              "        \n",
              "  <svg xmlns=\"http://www.w3.org/2000/svg\" height=\"24px\"viewBox=\"0 0 24 24\"\n",
              "       width=\"24px\">\n",
              "    <path d=\"M0 0h24v24H0V0z\" fill=\"none\"/>\n",
              "    <path d=\"M18.56 5.44l.94 2.06.94-2.06 2.06-.94-2.06-.94-.94-2.06-.94 2.06-2.06.94zm-11 1L8.5 8.5l.94-2.06 2.06-.94-2.06-.94L8.5 2.5l-.94 2.06-2.06.94zm10 10l.94 2.06.94-2.06 2.06-.94-2.06-.94-.94-2.06-.94 2.06-2.06.94z\"/><path d=\"M17.41 7.96l-1.37-1.37c-.4-.4-.92-.59-1.43-.59-.52 0-1.04.2-1.43.59L10.3 9.45l-7.72 7.72c-.78.78-.78 2.05 0 2.83L4 21.41c.39.39.9.59 1.41.59.51 0 1.02-.2 1.41-.59l7.78-7.78 2.81-2.81c.8-.78.8-2.07 0-2.86zM5.41 20L4 18.59l7.72-7.72 1.47 1.35L5.41 20z\"/>\n",
              "  </svg>\n",
              "      </button>\n",
              "      \n",
              "  <style>\n",
              "    .colab-df-container {\n",
              "      display:flex;\n",
              "      flex-wrap:wrap;\n",
              "      gap: 12px;\n",
              "    }\n",
              "\n",
              "    .colab-df-convert {\n",
              "      background-color: #E8F0FE;\n",
              "      border: none;\n",
              "      border-radius: 50%;\n",
              "      cursor: pointer;\n",
              "      display: none;\n",
              "      fill: #1967D2;\n",
              "      height: 32px;\n",
              "      padding: 0 0 0 0;\n",
              "      width: 32px;\n",
              "    }\n",
              "\n",
              "    .colab-df-convert:hover {\n",
              "      background-color: #E2EBFA;\n",
              "      box-shadow: 0px 1px 2px rgba(60, 64, 67, 0.3), 0px 1px 3px 1px rgba(60, 64, 67, 0.15);\n",
              "      fill: #174EA6;\n",
              "    }\n",
              "\n",
              "    [theme=dark] .colab-df-convert {\n",
              "      background-color: #3B4455;\n",
              "      fill: #D2E3FC;\n",
              "    }\n",
              "\n",
              "    [theme=dark] .colab-df-convert:hover {\n",
              "      background-color: #434B5C;\n",
              "      box-shadow: 0px 1px 3px 1px rgba(0, 0, 0, 0.15);\n",
              "      filter: drop-shadow(0px 1px 2px rgba(0, 0, 0, 0.3));\n",
              "      fill: #FFFFFF;\n",
              "    }\n",
              "  </style>\n",
              "\n",
              "      <script>\n",
              "        const buttonEl =\n",
              "          document.querySelector('#df-b786e5b3-6e64-4a71-b211-9a29b76395ed button.colab-df-convert');\n",
              "        buttonEl.style.display =\n",
              "          google.colab.kernel.accessAllowed ? 'block' : 'none';\n",
              "\n",
              "        async function convertToInteractive(key) {\n",
              "          const element = document.querySelector('#df-b786e5b3-6e64-4a71-b211-9a29b76395ed');\n",
              "          const dataTable =\n",
              "            await google.colab.kernel.invokeFunction('convertToInteractive',\n",
              "                                                     [key], {});\n",
              "          if (!dataTable) return;\n",
              "\n",
              "          const docLinkHtml = 'Like what you see? Visit the ' +\n",
              "            '<a target=\"_blank\" href=https://colab.research.google.com/notebooks/data_table.ipynb>data table notebook</a>'\n",
              "            + ' to learn more about interactive tables.';\n",
              "          element.innerHTML = '';\n",
              "          dataTable['output_type'] = 'display_data';\n",
              "          await google.colab.output.renderOutput(dataTable, element);\n",
              "          const docLink = document.createElement('div');\n",
              "          docLink.innerHTML = docLinkHtml;\n",
              "          element.appendChild(docLink);\n",
              "        }\n",
              "      </script>\n",
              "    </div>\n",
              "  </div>\n",
              "  "
            ]
          },
          "metadata": {},
          "execution_count": 489
        }
      ]
    },
    {
      "cell_type": "code",
      "source": [
        "cut['sum'] = cut.sum(axis=1)"
      ],
      "metadata": {
        "id": "mhqC8wuAOXBm"
      },
      "execution_count": null,
      "outputs": []
    },
    {
      "cell_type": "code",
      "source": [
        "mean_rev = cut['sum'].mean()"
      ],
      "metadata": {
        "id": "a59i6PKoPbd_"
      },
      "execution_count": null,
      "outputs": []
    },
    {
      "cell_type": "code",
      "source": [
        "print(f'Средняя выручка магазинов формата Мини ТЦ: {mean_rev: .2f}')"
      ],
      "metadata": {
        "colab": {
          "base_uri": "https://localhost:8080/"
        },
        "id": "Wj4wZkNWpz_Z",
        "outputId": "8a20ec44-4550-4124-e62c-a3d7d6323810"
      },
      "execution_count": null,
      "outputs": [
        {
          "output_type": "stream",
          "name": "stdout",
          "text": [
            "Средняя выручка магазинов формата Мини ТЦ:  1406449.74\n"
          ]
        }
      ]
    },
    {
      "cell_type": "markdown",
      "source": [
        "##Сколько магазинов с бесплатной парковкой?"
      ],
      "metadata": {
        "id": "UFflCJvV22BK"
      }
    },
    {
      "cell_type": "code",
      "source": [
        "parking_count = data['Парковка'].value_counts()"
      ],
      "metadata": {
        "id": "XaL-OqRI21BT"
      },
      "execution_count": null,
      "outputs": []
    },
    {
      "cell_type": "code",
      "source": [
        "parking_count"
      ],
      "metadata": {
        "colab": {
          "base_uri": "https://localhost:8080/"
        },
        "id": "yD8E6NK320-e",
        "outputId": "6b2b8822-320f-49c8-88c5-5874e804c9b6"
      },
      "execution_count": null,
      "outputs": [
        {
          "output_type": "execute_result",
          "data": {
            "text/plain": [
              "бесплатная парковка    155\n",
              "нет парковки            34\n",
              "платная парковка        31\n",
              "100.0                    2\n",
              "1000.0                   1\n",
              "700.0                    1\n",
              "бесплатная паpковка      1\n",
              "Name: Парковка, dtype: int64"
            ]
          },
          "metadata": {},
          "execution_count": 471
        }
      ]
    },
    {
      "cell_type": "code",
      "source": [
        "print(f'Количество магазинов с бесплатной парковкой: %s' % (parking_count[0]+parking_count[6]))"
      ],
      "metadata": {
        "colab": {
          "base_uri": "https://localhost:8080/"
        },
        "id": "iTtbPcKk205T",
        "outputId": "a75c4e1f-964b-492a-d69c-fe91209b01de"
      },
      "execution_count": null,
      "outputs": [
        {
          "output_type": "stream",
          "name": "stdout",
          "text": [
            "Количество магазинов с бесплатной парковкой: 156\n"
          ]
        }
      ]
    }
  ]
}